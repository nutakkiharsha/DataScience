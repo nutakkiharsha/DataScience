{
 "cells": [
  {
   "cell_type": "code",
   "execution_count": null,
   "metadata": {},
   "outputs": [],
   "source": [
    "                                                     DS-SKILL-4\n",
    "                                                                                                            190031994\n",
    "                                                                                                            N.Harsha Vardhan"
   ]
  },
  {
   "cell_type": "code",
   "execution_count": 14,
   "metadata": {},
   "outputs": [],
   "source": [
    "import pandas as pd\n",
    "import numpy as np\n",
    "import matplotlib.pyplot as plt\n",
    "import seaborn as sns\n",
    "import warnings\n",
    "warnings.filterwarnings(\"ignore\")\n",
    "pd.options.display.float_format = '{:.5f}'.format\n",
    "pd.options.display.max_columns = None\n",
    "pd.options.display.max_rows = None\n",
    "np.random.seed(100)"
   ]
  },
  {
   "cell_type": "code",
   "execution_count": 15,
   "metadata": {},
   "outputs": [
    {
     "data": {
      "text/html": [
       "<div>\n",
       "<style scoped>\n",
       "    .dataframe tbody tr th:only-of-type {\n",
       "        vertical-align: middle;\n",
       "    }\n",
       "\n",
       "    .dataframe tbody tr th {\n",
       "        vertical-align: top;\n",
       "    }\n",
       "\n",
       "    .dataframe thead th {\n",
       "        text-align: right;\n",
       "    }\n",
       "</style>\n",
       "<table border=\"1\" class=\"dataframe\">\n",
       "  <thead>\n",
       "    <tr style=\"text-align: right;\">\n",
       "      <th></th>\n",
       "      <th>instant</th>\n",
       "      <th>dteday</th>\n",
       "      <th>season</th>\n",
       "      <th>yr</th>\n",
       "      <th>mnth</th>\n",
       "      <th>holiday</th>\n",
       "      <th>weekday</th>\n",
       "      <th>workingday</th>\n",
       "      <th>weathersit</th>\n",
       "      <th>temp</th>\n",
       "      <th>atemp</th>\n",
       "      <th>hum</th>\n",
       "      <th>windspeed</th>\n",
       "      <th>casual</th>\n",
       "      <th>registered</th>\n",
       "      <th>cnt</th>\n",
       "    </tr>\n",
       "  </thead>\n",
       "  <tbody>\n",
       "    <tr>\n",
       "      <th>0</th>\n",
       "      <td>1</td>\n",
       "      <td>2011-01-01</td>\n",
       "      <td>1</td>\n",
       "      <td>0</td>\n",
       "      <td>1</td>\n",
       "      <td>0</td>\n",
       "      <td>6</td>\n",
       "      <td>0</td>\n",
       "      <td>2</td>\n",
       "      <td>0.34417</td>\n",
       "      <td>0.36362</td>\n",
       "      <td>0.80583</td>\n",
       "      <td>0.16045</td>\n",
       "      <td>331</td>\n",
       "      <td>654</td>\n",
       "      <td>985</td>\n",
       "    </tr>\n",
       "    <tr>\n",
       "      <th>1</th>\n",
       "      <td>2</td>\n",
       "      <td>2011-01-02</td>\n",
       "      <td>1</td>\n",
       "      <td>0</td>\n",
       "      <td>1</td>\n",
       "      <td>0</td>\n",
       "      <td>0</td>\n",
       "      <td>0</td>\n",
       "      <td>2</td>\n",
       "      <td>0.36348</td>\n",
       "      <td>0.35374</td>\n",
       "      <td>0.69609</td>\n",
       "      <td>0.24854</td>\n",
       "      <td>131</td>\n",
       "      <td>670</td>\n",
       "      <td>801</td>\n",
       "    </tr>\n",
       "    <tr>\n",
       "      <th>2</th>\n",
       "      <td>3</td>\n",
       "      <td>2011-01-03</td>\n",
       "      <td>1</td>\n",
       "      <td>0</td>\n",
       "      <td>1</td>\n",
       "      <td>0</td>\n",
       "      <td>1</td>\n",
       "      <td>1</td>\n",
       "      <td>1</td>\n",
       "      <td>0.19636</td>\n",
       "      <td>0.18940</td>\n",
       "      <td>0.43727</td>\n",
       "      <td>0.24831</td>\n",
       "      <td>120</td>\n",
       "      <td>1229</td>\n",
       "      <td>1349</td>\n",
       "    </tr>\n",
       "    <tr>\n",
       "      <th>3</th>\n",
       "      <td>4</td>\n",
       "      <td>2011-01-04</td>\n",
       "      <td>1</td>\n",
       "      <td>0</td>\n",
       "      <td>1</td>\n",
       "      <td>0</td>\n",
       "      <td>2</td>\n",
       "      <td>1</td>\n",
       "      <td>1</td>\n",
       "      <td>0.20000</td>\n",
       "      <td>0.21212</td>\n",
       "      <td>0.59044</td>\n",
       "      <td>0.16030</td>\n",
       "      <td>108</td>\n",
       "      <td>1454</td>\n",
       "      <td>1562</td>\n",
       "    </tr>\n",
       "    <tr>\n",
       "      <th>4</th>\n",
       "      <td>5</td>\n",
       "      <td>2011-01-05</td>\n",
       "      <td>1</td>\n",
       "      <td>0</td>\n",
       "      <td>1</td>\n",
       "      <td>0</td>\n",
       "      <td>3</td>\n",
       "      <td>1</td>\n",
       "      <td>1</td>\n",
       "      <td>0.22696</td>\n",
       "      <td>0.22927</td>\n",
       "      <td>0.43696</td>\n",
       "      <td>0.18690</td>\n",
       "      <td>82</td>\n",
       "      <td>1518</td>\n",
       "      <td>1600</td>\n",
       "    </tr>\n",
       "  </tbody>\n",
       "</table>\n",
       "</div>"
      ],
      "text/plain": [
       "   instant      dteday  season  yr  mnth  holiday  weekday  workingday  \\\n",
       "0        1  2011-01-01       1   0     1        0        6           0   \n",
       "1        2  2011-01-02       1   0     1        0        0           0   \n",
       "2        3  2011-01-03       1   0     1        0        1           1   \n",
       "3        4  2011-01-04       1   0     1        0        2           1   \n",
       "4        5  2011-01-05       1   0     1        0        3           1   \n",
       "\n",
       "   weathersit    temp   atemp     hum  windspeed  casual  registered   cnt  \n",
       "0           2 0.34417 0.36362 0.80583    0.16045     331         654   985  \n",
       "1           2 0.36348 0.35374 0.69609    0.24854     131         670   801  \n",
       "2           1 0.19636 0.18940 0.43727    0.24831     120        1229  1349  \n",
       "3           1 0.20000 0.21212 0.59044    0.16030     108        1454  1562  \n",
       "4           1 0.22696 0.22927 0.43696    0.18690      82        1518  1600  "
      ]
     },
     "execution_count": 15,
     "metadata": {},
     "output_type": "execute_result"
    }
   ],
   "source": [
    "day = pd.read_csv(\"day.csv\")\n",
    "hour = pd.read_csv(\"hour.csv\")\n",
    "day.head()"
   ]
  },
  {
   "cell_type": "code",
   "execution_count": 16,
   "metadata": {},
   "outputs": [
    {
     "name": "stdout",
     "output_type": "stream",
     "text": [
      "<class 'pandas.core.frame.DataFrame'>\n",
      "RangeIndex: 731 entries, 0 to 730\n",
      "Data columns (total 16 columns):\n",
      " #   Column      Non-Null Count  Dtype  \n",
      "---  ------      --------------  -----  \n",
      " 0   instant     731 non-null    int64  \n",
      " 1   dteday      731 non-null    object \n",
      " 2   season      731 non-null    int64  \n",
      " 3   yr          731 non-null    int64  \n",
      " 4   mnth        731 non-null    int64  \n",
      " 5   holiday     731 non-null    int64  \n",
      " 6   weekday     731 non-null    int64  \n",
      " 7   workingday  731 non-null    int64  \n",
      " 8   weathersit  731 non-null    int64  \n",
      " 9   temp        731 non-null    float64\n",
      " 10  atemp       731 non-null    float64\n",
      " 11  hum         731 non-null    float64\n",
      " 12  windspeed   731 non-null    float64\n",
      " 13  casual      731 non-null    int64  \n",
      " 14  registered  731 non-null    int64  \n",
      " 15  cnt         731 non-null    int64  \n",
      "dtypes: float64(4), int64(11), object(1)\n",
      "memory usage: 91.5+ KB\n"
     ]
    }
   ],
   "source": [
    "day.info()"
   ]
  },
  {
   "cell_type": "code",
   "execution_count": 17,
   "metadata": {},
   "outputs": [
    {
     "name": "stdout",
     "output_type": "stream",
     "text": [
      "<class 'pandas.core.frame.DataFrame'>\n",
      "RangeIndex: 17379 entries, 0 to 17378\n",
      "Data columns (total 17 columns):\n",
      " #   Column      Non-Null Count  Dtype  \n",
      "---  ------      --------------  -----  \n",
      " 0   instant     17379 non-null  int64  \n",
      " 1   dteday      17379 non-null  object \n",
      " 2   season      17379 non-null  int64  \n",
      " 3   yr          17379 non-null  int64  \n",
      " 4   mnth        17379 non-null  int64  \n",
      " 5   hr          17379 non-null  int64  \n",
      " 6   holiday     17379 non-null  int64  \n",
      " 7   weekday     17379 non-null  int64  \n",
      " 8   workingday  17379 non-null  int64  \n",
      " 9   weathersit  17379 non-null  int64  \n",
      " 10  temp        17379 non-null  float64\n",
      " 11  atemp       17379 non-null  float64\n",
      " 12  hum         17379 non-null  float64\n",
      " 13  windspeed   17379 non-null  float64\n",
      " 14  casual      17379 non-null  int64  \n",
      " 15  registered  17379 non-null  int64  \n",
      " 16  cnt         17379 non-null  int64  \n",
      "dtypes: float64(4), int64(12), object(1)\n",
      "memory usage: 2.3+ MB\n"
     ]
    }
   ],
   "source": [
    "hour.info()"
   ]
  },
  {
   "cell_type": "code",
   "execution_count": 18,
   "metadata": {},
   "outputs": [],
   "source": [
    "day['temp'] = day['temp']*41\n",
    "hour['temp'] = hour['temp']*41\n",
    "day['temp'] = day['temp']*50\n",
    "hour['temp'] = hour['temp']*50\n",
    "day['temp'] = day['temp']*100\n",
    "hour['temp'] = hour['temp']*100\n",
    "day['temp'] = day['temp']*67\n",
    "hour['temp'] = hour['temp']*67\n"
   ]
  },
  {
   "cell_type": "code",
   "execution_count": 19,
   "metadata": {},
   "outputs": [
    {
     "data": {
      "text/html": [
       "<div>\n",
       "<style scoped>\n",
       "    .dataframe tbody tr th:only-of-type {\n",
       "        vertical-align: middle;\n",
       "    }\n",
       "\n",
       "    .dataframe tbody tr th {\n",
       "        vertical-align: top;\n",
       "    }\n",
       "\n",
       "    .dataframe thead th {\n",
       "        text-align: right;\n",
       "    }\n",
       "</style>\n",
       "<table border=\"1\" class=\"dataframe\">\n",
       "  <thead>\n",
       "    <tr style=\"text-align: right;\">\n",
       "      <th></th>\n",
       "      <th>instant</th>\n",
       "      <th>dteday</th>\n",
       "      <th>season</th>\n",
       "      <th>yr</th>\n",
       "      <th>mnth</th>\n",
       "      <th>holiday</th>\n",
       "      <th>weekday</th>\n",
       "      <th>workingday</th>\n",
       "      <th>weathersit</th>\n",
       "      <th>temp</th>\n",
       "      <th>atemp</th>\n",
       "      <th>hum</th>\n",
       "      <th>windspeed</th>\n",
       "      <th>casual</th>\n",
       "      <th>registered</th>\n",
       "      <th>cnt</th>\n",
       "    </tr>\n",
       "  </thead>\n",
       "  <tbody>\n",
       "    <tr>\n",
       "      <th>0</th>\n",
       "      <td>1</td>\n",
       "      <td>2011-01-01</td>\n",
       "      <td>1</td>\n",
       "      <td>0</td>\n",
       "      <td>1</td>\n",
       "      <td>0</td>\n",
       "      <td>6</td>\n",
       "      <td>0</td>\n",
       "      <td>2</td>\n",
       "      <td>4727133.74500</td>\n",
       "      <td>0.36362</td>\n",
       "      <td>0.80583</td>\n",
       "      <td>0.16045</td>\n",
       "      <td>331</td>\n",
       "      <td>654</td>\n",
       "      <td>985</td>\n",
       "    </tr>\n",
       "    <tr>\n",
       "      <th>1</th>\n",
       "      <td>2</td>\n",
       "      <td>2011-01-02</td>\n",
       "      <td>1</td>\n",
       "      <td>0</td>\n",
       "      <td>1</td>\n",
       "      <td>0</td>\n",
       "      <td>0</td>\n",
       "      <td>0</td>\n",
       "      <td>2</td>\n",
       "      <td>4992370.33000</td>\n",
       "      <td>0.35374</td>\n",
       "      <td>0.69609</td>\n",
       "      <td>0.24854</td>\n",
       "      <td>131</td>\n",
       "      <td>670</td>\n",
       "      <td>801</td>\n",
       "    </tr>\n",
       "    <tr>\n",
       "      <th>2</th>\n",
       "      <td>3</td>\n",
       "      <td>2011-01-03</td>\n",
       "      <td>1</td>\n",
       "      <td>0</td>\n",
       "      <td>1</td>\n",
       "      <td>0</td>\n",
       "      <td>1</td>\n",
       "      <td>1</td>\n",
       "      <td>1</td>\n",
       "      <td>2697059.54000</td>\n",
       "      <td>0.18940</td>\n",
       "      <td>0.43727</td>\n",
       "      <td>0.24831</td>\n",
       "      <td>120</td>\n",
       "      <td>1229</td>\n",
       "      <td>1349</td>\n",
       "    </tr>\n",
       "    <tr>\n",
       "      <th>3</th>\n",
       "      <td>4</td>\n",
       "      <td>2011-01-04</td>\n",
       "      <td>1</td>\n",
       "      <td>0</td>\n",
       "      <td>1</td>\n",
       "      <td>0</td>\n",
       "      <td>2</td>\n",
       "      <td>1</td>\n",
       "      <td>1</td>\n",
       "      <td>2747000.00000</td>\n",
       "      <td>0.21212</td>\n",
       "      <td>0.59044</td>\n",
       "      <td>0.16030</td>\n",
       "      <td>108</td>\n",
       "      <td>1454</td>\n",
       "      <td>1562</td>\n",
       "    </tr>\n",
       "    <tr>\n",
       "      <th>4</th>\n",
       "      <td>5</td>\n",
       "      <td>2011-01-05</td>\n",
       "      <td>1</td>\n",
       "      <td>0</td>\n",
       "      <td>1</td>\n",
       "      <td>0</td>\n",
       "      <td>3</td>\n",
       "      <td>1</td>\n",
       "      <td>1</td>\n",
       "      <td>3117254.39500</td>\n",
       "      <td>0.22927</td>\n",
       "      <td>0.43696</td>\n",
       "      <td>0.18690</td>\n",
       "      <td>82</td>\n",
       "      <td>1518</td>\n",
       "      <td>1600</td>\n",
       "    </tr>\n",
       "  </tbody>\n",
       "</table>\n",
       "</div>"
      ],
      "text/plain": [
       "   instant      dteday  season  yr  mnth  holiday  weekday  workingday  \\\n",
       "0        1  2011-01-01       1   0     1        0        6           0   \n",
       "1        2  2011-01-02       1   0     1        0        0           0   \n",
       "2        3  2011-01-03       1   0     1        0        1           1   \n",
       "3        4  2011-01-04       1   0     1        0        2           1   \n",
       "4        5  2011-01-05       1   0     1        0        3           1   \n",
       "\n",
       "   weathersit          temp   atemp     hum  windspeed  casual  registered  \\\n",
       "0           2 4727133.74500 0.36362 0.80583    0.16045     331         654   \n",
       "1           2 4992370.33000 0.35374 0.69609    0.24854     131         670   \n",
       "2           1 2697059.54000 0.18940 0.43727    0.24831     120        1229   \n",
       "3           1 2747000.00000 0.21212 0.59044    0.16030     108        1454   \n",
       "4           1 3117254.39500 0.22927 0.43696    0.18690      82        1518   \n",
       "\n",
       "    cnt  \n",
       "0   985  \n",
       "1   801  \n",
       "2  1349  \n",
       "3  1562  \n",
       "4  1600  "
      ]
     },
     "execution_count": 19,
     "metadata": {},
     "output_type": "execute_result"
    }
   ],
   "source": [
    "day.head()"
   ]
  },
  {
   "cell_type": "code",
   "execution_count": 20,
   "metadata": {},
   "outputs": [
    {
     "data": {
      "text/html": [
       "<div>\n",
       "<style scoped>\n",
       "    .dataframe tbody tr th:only-of-type {\n",
       "        vertical-align: middle;\n",
       "    }\n",
       "\n",
       "    .dataframe tbody tr th {\n",
       "        vertical-align: top;\n",
       "    }\n",
       "\n",
       "    .dataframe thead th {\n",
       "        text-align: right;\n",
       "    }\n",
       "</style>\n",
       "<table border=\"1\" class=\"dataframe\">\n",
       "  <thead>\n",
       "    <tr style=\"text-align: right;\">\n",
       "      <th></th>\n",
       "      <th>instant</th>\n",
       "      <th>dteday</th>\n",
       "      <th>season</th>\n",
       "      <th>yr</th>\n",
       "      <th>mnth</th>\n",
       "      <th>hr</th>\n",
       "      <th>holiday</th>\n",
       "      <th>weekday</th>\n",
       "      <th>workingday</th>\n",
       "      <th>weathersit</th>\n",
       "      <th>temp</th>\n",
       "      <th>atemp</th>\n",
       "      <th>hum</th>\n",
       "      <th>windspeed</th>\n",
       "      <th>casual</th>\n",
       "      <th>registered</th>\n",
       "      <th>cnt</th>\n",
       "    </tr>\n",
       "  </thead>\n",
       "  <tbody>\n",
       "    <tr>\n",
       "      <th>0</th>\n",
       "      <td>1</td>\n",
       "      <td>2011-01-01</td>\n",
       "      <td>1</td>\n",
       "      <td>0</td>\n",
       "      <td>1</td>\n",
       "      <td>0</td>\n",
       "      <td>0</td>\n",
       "      <td>6</td>\n",
       "      <td>0</td>\n",
       "      <td>1</td>\n",
       "      <td>3296400.00000</td>\n",
       "      <td>0.28790</td>\n",
       "      <td>0.81000</td>\n",
       "      <td>0.00000</td>\n",
       "      <td>3</td>\n",
       "      <td>13</td>\n",
       "      <td>16</td>\n",
       "    </tr>\n",
       "    <tr>\n",
       "      <th>1</th>\n",
       "      <td>2</td>\n",
       "      <td>2011-01-01</td>\n",
       "      <td>1</td>\n",
       "      <td>0</td>\n",
       "      <td>1</td>\n",
       "      <td>1</td>\n",
       "      <td>0</td>\n",
       "      <td>6</td>\n",
       "      <td>0</td>\n",
       "      <td>1</td>\n",
       "      <td>3021700.00000</td>\n",
       "      <td>0.27270</td>\n",
       "      <td>0.80000</td>\n",
       "      <td>0.00000</td>\n",
       "      <td>8</td>\n",
       "      <td>32</td>\n",
       "      <td>40</td>\n",
       "    </tr>\n",
       "    <tr>\n",
       "      <th>2</th>\n",
       "      <td>3</td>\n",
       "      <td>2011-01-01</td>\n",
       "      <td>1</td>\n",
       "      <td>0</td>\n",
       "      <td>1</td>\n",
       "      <td>2</td>\n",
       "      <td>0</td>\n",
       "      <td>6</td>\n",
       "      <td>0</td>\n",
       "      <td>1</td>\n",
       "      <td>3021700.00000</td>\n",
       "      <td>0.27270</td>\n",
       "      <td>0.80000</td>\n",
       "      <td>0.00000</td>\n",
       "      <td>5</td>\n",
       "      <td>27</td>\n",
       "      <td>32</td>\n",
       "    </tr>\n",
       "    <tr>\n",
       "      <th>3</th>\n",
       "      <td>4</td>\n",
       "      <td>2011-01-01</td>\n",
       "      <td>1</td>\n",
       "      <td>0</td>\n",
       "      <td>1</td>\n",
       "      <td>3</td>\n",
       "      <td>0</td>\n",
       "      <td>6</td>\n",
       "      <td>0</td>\n",
       "      <td>1</td>\n",
       "      <td>3296400.00000</td>\n",
       "      <td>0.28790</td>\n",
       "      <td>0.75000</td>\n",
       "      <td>0.00000</td>\n",
       "      <td>3</td>\n",
       "      <td>10</td>\n",
       "      <td>13</td>\n",
       "    </tr>\n",
       "    <tr>\n",
       "      <th>4</th>\n",
       "      <td>5</td>\n",
       "      <td>2011-01-01</td>\n",
       "      <td>1</td>\n",
       "      <td>0</td>\n",
       "      <td>1</td>\n",
       "      <td>4</td>\n",
       "      <td>0</td>\n",
       "      <td>6</td>\n",
       "      <td>0</td>\n",
       "      <td>1</td>\n",
       "      <td>3296400.00000</td>\n",
       "      <td>0.28790</td>\n",
       "      <td>0.75000</td>\n",
       "      <td>0.00000</td>\n",
       "      <td>0</td>\n",
       "      <td>1</td>\n",
       "      <td>1</td>\n",
       "    </tr>\n",
       "  </tbody>\n",
       "</table>\n",
       "</div>"
      ],
      "text/plain": [
       "   instant      dteday  season  yr  mnth  hr  holiday  weekday  workingday  \\\n",
       "0        1  2011-01-01       1   0     1   0        0        6           0   \n",
       "1        2  2011-01-01       1   0     1   1        0        6           0   \n",
       "2        3  2011-01-01       1   0     1   2        0        6           0   \n",
       "3        4  2011-01-01       1   0     1   3        0        6           0   \n",
       "4        5  2011-01-01       1   0     1   4        0        6           0   \n",
       "\n",
       "   weathersit          temp   atemp     hum  windspeed  casual  registered  \\\n",
       "0           1 3296400.00000 0.28790 0.81000    0.00000       3          13   \n",
       "1           1 3021700.00000 0.27270 0.80000    0.00000       8          32   \n",
       "2           1 3021700.00000 0.27270 0.80000    0.00000       5          27   \n",
       "3           1 3296400.00000 0.28790 0.75000    0.00000       3          10   \n",
       "4           1 3296400.00000 0.28790 0.75000    0.00000       0           1   \n",
       "\n",
       "   cnt  \n",
       "0   16  \n",
       "1   40  \n",
       "2   32  \n",
       "3   13  \n",
       "4    1  "
      ]
     },
     "execution_count": 20,
     "metadata": {},
     "output_type": "execute_result"
    }
   ],
   "source": [
    "hour.head()"
   ]
  },
  {
   "cell_type": "code",
   "execution_count": 21,
   "metadata": {},
   "outputs": [
    {
     "data": {
      "text/plain": [
       "instant       0\n",
       "dteday        0\n",
       "season        0\n",
       "yr            0\n",
       "mnth          0\n",
       "holiday       0\n",
       "weekday       0\n",
       "workingday    0\n",
       "weathersit    0\n",
       "temp          0\n",
       "atemp         0\n",
       "hum           0\n",
       "windspeed     0\n",
       "casual        0\n",
       "registered    0\n",
       "cnt           0\n",
       "dtype: int64"
      ]
     },
     "execution_count": 21,
     "metadata": {},
     "output_type": "execute_result"
    }
   ],
   "source": [
    "day.isna().sum()"
   ]
  },
  {
   "cell_type": "code",
   "execution_count": 22,
   "metadata": {},
   "outputs": [
    {
     "data": {
      "text/html": [
       "<div>\n",
       "<style scoped>\n",
       "    .dataframe tbody tr th:only-of-type {\n",
       "        vertical-align: middle;\n",
       "    }\n",
       "\n",
       "    .dataframe tbody tr th {\n",
       "        vertical-align: top;\n",
       "    }\n",
       "\n",
       "    .dataframe thead th {\n",
       "        text-align: right;\n",
       "    }\n",
       "</style>\n",
       "<table border=\"1\" class=\"dataframe\">\n",
       "  <thead>\n",
       "    <tr style=\"text-align: right;\">\n",
       "      <th></th>\n",
       "      <th>count</th>\n",
       "      <th>mean</th>\n",
       "      <th>std</th>\n",
       "      <th>min</th>\n",
       "      <th>25%</th>\n",
       "      <th>50%</th>\n",
       "      <th>75%</th>\n",
       "      <th>max</th>\n",
       "    </tr>\n",
       "  </thead>\n",
       "  <tbody>\n",
       "    <tr>\n",
       "      <th>instant</th>\n",
       "      <td>731.00000</td>\n",
       "      <td>366.00000</td>\n",
       "      <td>211.16581</td>\n",
       "      <td>1.00000</td>\n",
       "      <td>183.50000</td>\n",
       "      <td>366.00000</td>\n",
       "      <td>548.50000</td>\n",
       "      <td>731.00000</td>\n",
       "    </tr>\n",
       "    <tr>\n",
       "      <th>season</th>\n",
       "      <td>731.00000</td>\n",
       "      <td>2.49658</td>\n",
       "      <td>1.11081</td>\n",
       "      <td>1.00000</td>\n",
       "      <td>2.00000</td>\n",
       "      <td>3.00000</td>\n",
       "      <td>3.00000</td>\n",
       "      <td>4.00000</td>\n",
       "    </tr>\n",
       "    <tr>\n",
       "      <th>yr</th>\n",
       "      <td>731.00000</td>\n",
       "      <td>0.50068</td>\n",
       "      <td>0.50034</td>\n",
       "      <td>0.00000</td>\n",
       "      <td>0.00000</td>\n",
       "      <td>1.00000</td>\n",
       "      <td>1.00000</td>\n",
       "      <td>1.00000</td>\n",
       "    </tr>\n",
       "    <tr>\n",
       "      <th>mnth</th>\n",
       "      <td>731.00000</td>\n",
       "      <td>6.51984</td>\n",
       "      <td>3.45191</td>\n",
       "      <td>1.00000</td>\n",
       "      <td>4.00000</td>\n",
       "      <td>7.00000</td>\n",
       "      <td>10.00000</td>\n",
       "      <td>12.00000</td>\n",
       "    </tr>\n",
       "    <tr>\n",
       "      <th>holiday</th>\n",
       "      <td>731.00000</td>\n",
       "      <td>0.02873</td>\n",
       "      <td>0.16715</td>\n",
       "      <td>0.00000</td>\n",
       "      <td>0.00000</td>\n",
       "      <td>0.00000</td>\n",
       "      <td>0.00000</td>\n",
       "      <td>1.00000</td>\n",
       "    </tr>\n",
       "    <tr>\n",
       "      <th>weekday</th>\n",
       "      <td>731.00000</td>\n",
       "      <td>2.99726</td>\n",
       "      <td>2.00479</td>\n",
       "      <td>0.00000</td>\n",
       "      <td>1.00000</td>\n",
       "      <td>3.00000</td>\n",
       "      <td>5.00000</td>\n",
       "      <td>6.00000</td>\n",
       "    </tr>\n",
       "    <tr>\n",
       "      <th>workingday</th>\n",
       "      <td>731.00000</td>\n",
       "      <td>0.68399</td>\n",
       "      <td>0.46523</td>\n",
       "      <td>0.00000</td>\n",
       "      <td>0.00000</td>\n",
       "      <td>1.00000</td>\n",
       "      <td>1.00000</td>\n",
       "      <td>1.00000</td>\n",
       "    </tr>\n",
       "    <tr>\n",
       "      <th>weathersit</th>\n",
       "      <td>731.00000</td>\n",
       "      <td>1.39535</td>\n",
       "      <td>0.54489</td>\n",
       "      <td>1.00000</td>\n",
       "      <td>1.00000</td>\n",
       "      <td>1.00000</td>\n",
       "      <td>2.00000</td>\n",
       "      <td>3.00000</td>\n",
       "    </tr>\n",
       "    <tr>\n",
       "      <th>temp</th>\n",
       "      <td>731.00000</td>\n",
       "      <td>6804110.07017</td>\n",
       "      <td>2514205.43159</td>\n",
       "      <td>812156.04400</td>\n",
       "      <td>4629841.87250</td>\n",
       "      <td>6844603.75500</td>\n",
       "      <td>9002145.62750</td>\n",
       "      <td>11834996.24500</td>\n",
       "    </tr>\n",
       "    <tr>\n",
       "      <th>atemp</th>\n",
       "      <td>731.00000</td>\n",
       "      <td>0.47435</td>\n",
       "      <td>0.16296</td>\n",
       "      <td>0.07907</td>\n",
       "      <td>0.33784</td>\n",
       "      <td>0.48673</td>\n",
       "      <td>0.60860</td>\n",
       "      <td>0.84090</td>\n",
       "    </tr>\n",
       "    <tr>\n",
       "      <th>hum</th>\n",
       "      <td>731.00000</td>\n",
       "      <td>0.62789</td>\n",
       "      <td>0.14243</td>\n",
       "      <td>0.00000</td>\n",
       "      <td>0.52000</td>\n",
       "      <td>0.62667</td>\n",
       "      <td>0.73021</td>\n",
       "      <td>0.97250</td>\n",
       "    </tr>\n",
       "    <tr>\n",
       "      <th>windspeed</th>\n",
       "      <td>731.00000</td>\n",
       "      <td>0.19049</td>\n",
       "      <td>0.07750</td>\n",
       "      <td>0.02239</td>\n",
       "      <td>0.13495</td>\n",
       "      <td>0.18097</td>\n",
       "      <td>0.23321</td>\n",
       "      <td>0.50746</td>\n",
       "    </tr>\n",
       "    <tr>\n",
       "      <th>casual</th>\n",
       "      <td>731.00000</td>\n",
       "      <td>848.17647</td>\n",
       "      <td>686.62249</td>\n",
       "      <td>2.00000</td>\n",
       "      <td>315.50000</td>\n",
       "      <td>713.00000</td>\n",
       "      <td>1096.00000</td>\n",
       "      <td>3410.00000</td>\n",
       "    </tr>\n",
       "    <tr>\n",
       "      <th>registered</th>\n",
       "      <td>731.00000</td>\n",
       "      <td>3656.17237</td>\n",
       "      <td>1560.25638</td>\n",
       "      <td>20.00000</td>\n",
       "      <td>2497.00000</td>\n",
       "      <td>3662.00000</td>\n",
       "      <td>4776.50000</td>\n",
       "      <td>6946.00000</td>\n",
       "    </tr>\n",
       "    <tr>\n",
       "      <th>cnt</th>\n",
       "      <td>731.00000</td>\n",
       "      <td>4504.34884</td>\n",
       "      <td>1937.21145</td>\n",
       "      <td>22.00000</td>\n",
       "      <td>3152.00000</td>\n",
       "      <td>4548.00000</td>\n",
       "      <td>5956.00000</td>\n",
       "      <td>8714.00000</td>\n",
       "    </tr>\n",
       "  </tbody>\n",
       "</table>\n",
       "</div>"
      ],
      "text/plain": [
       "               count          mean           std          min           25%  \\\n",
       "instant    731.00000     366.00000     211.16581      1.00000     183.50000   \n",
       "season     731.00000       2.49658       1.11081      1.00000       2.00000   \n",
       "yr         731.00000       0.50068       0.50034      0.00000       0.00000   \n",
       "mnth       731.00000       6.51984       3.45191      1.00000       4.00000   \n",
       "holiday    731.00000       0.02873       0.16715      0.00000       0.00000   \n",
       "weekday    731.00000       2.99726       2.00479      0.00000       1.00000   \n",
       "workingday 731.00000       0.68399       0.46523      0.00000       0.00000   \n",
       "weathersit 731.00000       1.39535       0.54489      1.00000       1.00000   \n",
       "temp       731.00000 6804110.07017 2514205.43159 812156.04400 4629841.87250   \n",
       "atemp      731.00000       0.47435       0.16296      0.07907       0.33784   \n",
       "hum        731.00000       0.62789       0.14243      0.00000       0.52000   \n",
       "windspeed  731.00000       0.19049       0.07750      0.02239       0.13495   \n",
       "casual     731.00000     848.17647     686.62249      2.00000     315.50000   \n",
       "registered 731.00000    3656.17237    1560.25638     20.00000    2497.00000   \n",
       "cnt        731.00000    4504.34884    1937.21145     22.00000    3152.00000   \n",
       "\n",
       "                     50%           75%            max  \n",
       "instant        366.00000     548.50000      731.00000  \n",
       "season           3.00000       3.00000        4.00000  \n",
       "yr               1.00000       1.00000        1.00000  \n",
       "mnth             7.00000      10.00000       12.00000  \n",
       "holiday          0.00000       0.00000        1.00000  \n",
       "weekday          3.00000       5.00000        6.00000  \n",
       "workingday       1.00000       1.00000        1.00000  \n",
       "weathersit       1.00000       2.00000        3.00000  \n",
       "temp       6844603.75500 9002145.62750 11834996.24500  \n",
       "atemp            0.48673       0.60860        0.84090  \n",
       "hum              0.62667       0.73021        0.97250  \n",
       "windspeed        0.18097       0.23321        0.50746  \n",
       "casual         713.00000    1096.00000     3410.00000  \n",
       "registered    3662.00000    4776.50000     6946.00000  \n",
       "cnt           4548.00000    5956.00000     8714.00000  "
      ]
     },
     "execution_count": 22,
     "metadata": {},
     "output_type": "execute_result"
    }
   ],
   "source": [
    "day.describe().T"
   ]
  },
  {
   "cell_type": "code",
   "execution_count": 23,
   "metadata": {},
   "outputs": [],
   "source": [
    "col = ['season', 'yr', 'mnth', 'hr', 'holiday', 'weekday', 'workingday', 'weathersit']"
   ]
  },
  {
   "cell_type": "code",
   "execution_count": 24,
   "metadata": {},
   "outputs": [],
   "source": [
    "def change_dtype(data, col):\n",
    "    for i in col:\n",
    "        if i in data.columns.to_list():\n",
    "            data[i] = data[i].astype('category')"
   ]
  },
  {
   "cell_type": "code",
   "execution_count": 13,
   "metadata": {},
   "outputs": [],
   "source": [
    "col = ['season', 'yr', 'mnth', 'hr', 'holiday', 'weekday', 'workingday', 'weathersit']"
   ]
  },
  {
   "cell_type": "code",
   "execution_count": 14,
   "metadata": {},
   "outputs": [],
   "source": [
    "def change_dtype(data,col):\n",
    "    for i in col:\n",
    "        if i in data.columns.to_list():\n",
    "            data[i] = data[i].astype('category')"
   ]
  },
  {
   "cell_type": "code",
   "execution_count": 25,
   "metadata": {},
   "outputs": [
    {
     "name": "stdout",
     "output_type": "stream",
     "text": [
      "name of season col\n",
      "No. of NUnique 4\n",
      "Unque Values [1 2 3 4]\n",
      "******************************\n",
      "\n",
      "\n",
      "name of yr col\n",
      "No. of NUnique 2\n",
      "Unque Values [0 1]\n",
      "******************************\n",
      "\n",
      "\n",
      "name of mnth col\n",
      "No. of NUnique 12\n",
      "Unque Values [ 1  2  3  4  5  6  7  8  9 10 11 12]\n",
      "******************************\n",
      "\n",
      "\n",
      "name of hr col\n",
      "No. of NUnique 24\n",
      "Unque Values [ 0  1  2  3  4  5  6  7  8  9 10 11 12 13 14 15 16 17 18 19 20 21 22 23]\n",
      "******************************\n",
      "\n",
      "\n",
      "name of holiday col\n",
      "No. of NUnique 2\n",
      "Unque Values [0 1]\n",
      "******************************\n",
      "\n",
      "\n",
      "name of weekday col\n",
      "No. of NUnique 7\n",
      "Unque Values [6 0 1 2 3 4 5]\n",
      "******************************\n",
      "\n",
      "\n",
      "name of workingday col\n",
      "No. of NUnique 2\n",
      "Unque Values [0 1]\n",
      "******************************\n",
      "\n",
      "\n",
      "name of weathersit col\n",
      "No. of NUnique 4\n",
      "Unque Values [1 2 3 4]\n",
      "******************************\n",
      "\n",
      "\n"
     ]
    }
   ],
   "source": [
    "for i in col:\n",
    "    print(\"name of {} col\".format(i))\n",
    "    print(\"No. of NUnique\", hour[i].nunique())\n",
    "    print(\"Unque Values\", hour[i].unique())\n",
    "    print('*'*30)\n",
    "    print()\n",
    "    print()"
   ]
  },
  {
   "cell_type": "code",
   "execution_count": 27,
   "metadata": {},
   "outputs": [],
   "source": [
    "def drop_instant(data):\n",
    "    data.drop(['instant'], axis=1, inplace=True)\n",
    "drop_instant(day)\n",
    "drop_instant(hour)"
   ]
  },
  {
   "cell_type": "code",
   "execution_count": 28,
   "metadata": {},
   "outputs": [
    {
     "data": {
      "text/html": [
       "<div>\n",
       "<style scoped>\n",
       "    .dataframe tbody tr th:only-of-type {\n",
       "        vertical-align: middle;\n",
       "    }\n",
       "\n",
       "    .dataframe tbody tr th {\n",
       "        vertical-align: top;\n",
       "    }\n",
       "\n",
       "    .dataframe thead th {\n",
       "        text-align: right;\n",
       "    }\n",
       "</style>\n",
       "<table border=\"1\" class=\"dataframe\">\n",
       "  <thead>\n",
       "    <tr style=\"text-align: right;\">\n",
       "      <th></th>\n",
       "      <th>count</th>\n",
       "      <th>mean</th>\n",
       "      <th>std</th>\n",
       "      <th>min</th>\n",
       "      <th>25%</th>\n",
       "      <th>50%</th>\n",
       "      <th>75%</th>\n",
       "      <th>max</th>\n",
       "    </tr>\n",
       "  </thead>\n",
       "  <tbody>\n",
       "    <tr>\n",
       "      <th>season</th>\n",
       "      <td>731.00000</td>\n",
       "      <td>2.49658</td>\n",
       "      <td>1.11081</td>\n",
       "      <td>1.00000</td>\n",
       "      <td>2.00000</td>\n",
       "      <td>3.00000</td>\n",
       "      <td>3.00000</td>\n",
       "      <td>4.00000</td>\n",
       "    </tr>\n",
       "    <tr>\n",
       "      <th>yr</th>\n",
       "      <td>731.00000</td>\n",
       "      <td>0.50068</td>\n",
       "      <td>0.50034</td>\n",
       "      <td>0.00000</td>\n",
       "      <td>0.00000</td>\n",
       "      <td>1.00000</td>\n",
       "      <td>1.00000</td>\n",
       "      <td>1.00000</td>\n",
       "    </tr>\n",
       "    <tr>\n",
       "      <th>mnth</th>\n",
       "      <td>731.00000</td>\n",
       "      <td>6.51984</td>\n",
       "      <td>3.45191</td>\n",
       "      <td>1.00000</td>\n",
       "      <td>4.00000</td>\n",
       "      <td>7.00000</td>\n",
       "      <td>10.00000</td>\n",
       "      <td>12.00000</td>\n",
       "    </tr>\n",
       "    <tr>\n",
       "      <th>holiday</th>\n",
       "      <td>731.00000</td>\n",
       "      <td>0.02873</td>\n",
       "      <td>0.16715</td>\n",
       "      <td>0.00000</td>\n",
       "      <td>0.00000</td>\n",
       "      <td>0.00000</td>\n",
       "      <td>0.00000</td>\n",
       "      <td>1.00000</td>\n",
       "    </tr>\n",
       "    <tr>\n",
       "      <th>weekday</th>\n",
       "      <td>731.00000</td>\n",
       "      <td>2.99726</td>\n",
       "      <td>2.00479</td>\n",
       "      <td>0.00000</td>\n",
       "      <td>1.00000</td>\n",
       "      <td>3.00000</td>\n",
       "      <td>5.00000</td>\n",
       "      <td>6.00000</td>\n",
       "    </tr>\n",
       "    <tr>\n",
       "      <th>workingday</th>\n",
       "      <td>731.00000</td>\n",
       "      <td>0.68399</td>\n",
       "      <td>0.46523</td>\n",
       "      <td>0.00000</td>\n",
       "      <td>0.00000</td>\n",
       "      <td>1.00000</td>\n",
       "      <td>1.00000</td>\n",
       "      <td>1.00000</td>\n",
       "    </tr>\n",
       "    <tr>\n",
       "      <th>weathersit</th>\n",
       "      <td>731.00000</td>\n",
       "      <td>1.39535</td>\n",
       "      <td>0.54489</td>\n",
       "      <td>1.00000</td>\n",
       "      <td>1.00000</td>\n",
       "      <td>1.00000</td>\n",
       "      <td>2.00000</td>\n",
       "      <td>3.00000</td>\n",
       "    </tr>\n",
       "    <tr>\n",
       "      <th>temp</th>\n",
       "      <td>731.00000</td>\n",
       "      <td>6804110.07017</td>\n",
       "      <td>2514205.43159</td>\n",
       "      <td>812156.04400</td>\n",
       "      <td>4629841.87250</td>\n",
       "      <td>6844603.75500</td>\n",
       "      <td>9002145.62750</td>\n",
       "      <td>11834996.24500</td>\n",
       "    </tr>\n",
       "    <tr>\n",
       "      <th>atemp</th>\n",
       "      <td>731.00000</td>\n",
       "      <td>0.47435</td>\n",
       "      <td>0.16296</td>\n",
       "      <td>0.07907</td>\n",
       "      <td>0.33784</td>\n",
       "      <td>0.48673</td>\n",
       "      <td>0.60860</td>\n",
       "      <td>0.84090</td>\n",
       "    </tr>\n",
       "    <tr>\n",
       "      <th>hum</th>\n",
       "      <td>731.00000</td>\n",
       "      <td>0.62789</td>\n",
       "      <td>0.14243</td>\n",
       "      <td>0.00000</td>\n",
       "      <td>0.52000</td>\n",
       "      <td>0.62667</td>\n",
       "      <td>0.73021</td>\n",
       "      <td>0.97250</td>\n",
       "    </tr>\n",
       "    <tr>\n",
       "      <th>windspeed</th>\n",
       "      <td>731.00000</td>\n",
       "      <td>0.19049</td>\n",
       "      <td>0.07750</td>\n",
       "      <td>0.02239</td>\n",
       "      <td>0.13495</td>\n",
       "      <td>0.18097</td>\n",
       "      <td>0.23321</td>\n",
       "      <td>0.50746</td>\n",
       "    </tr>\n",
       "    <tr>\n",
       "      <th>casual</th>\n",
       "      <td>731.00000</td>\n",
       "      <td>848.17647</td>\n",
       "      <td>686.62249</td>\n",
       "      <td>2.00000</td>\n",
       "      <td>315.50000</td>\n",
       "      <td>713.00000</td>\n",
       "      <td>1096.00000</td>\n",
       "      <td>3410.00000</td>\n",
       "    </tr>\n",
       "    <tr>\n",
       "      <th>registered</th>\n",
       "      <td>731.00000</td>\n",
       "      <td>3656.17237</td>\n",
       "      <td>1560.25638</td>\n",
       "      <td>20.00000</td>\n",
       "      <td>2497.00000</td>\n",
       "      <td>3662.00000</td>\n",
       "      <td>4776.50000</td>\n",
       "      <td>6946.00000</td>\n",
       "    </tr>\n",
       "    <tr>\n",
       "      <th>cnt</th>\n",
       "      <td>731.00000</td>\n",
       "      <td>4504.34884</td>\n",
       "      <td>1937.21145</td>\n",
       "      <td>22.00000</td>\n",
       "      <td>3152.00000</td>\n",
       "      <td>4548.00000</td>\n",
       "      <td>5956.00000</td>\n",
       "      <td>8714.00000</td>\n",
       "    </tr>\n",
       "  </tbody>\n",
       "</table>\n",
       "</div>"
      ],
      "text/plain": [
       "               count          mean           std          min           25%  \\\n",
       "season     731.00000       2.49658       1.11081      1.00000       2.00000   \n",
       "yr         731.00000       0.50068       0.50034      0.00000       0.00000   \n",
       "mnth       731.00000       6.51984       3.45191      1.00000       4.00000   \n",
       "holiday    731.00000       0.02873       0.16715      0.00000       0.00000   \n",
       "weekday    731.00000       2.99726       2.00479      0.00000       1.00000   \n",
       "workingday 731.00000       0.68399       0.46523      0.00000       0.00000   \n",
       "weathersit 731.00000       1.39535       0.54489      1.00000       1.00000   \n",
       "temp       731.00000 6804110.07017 2514205.43159 812156.04400 4629841.87250   \n",
       "atemp      731.00000       0.47435       0.16296      0.07907       0.33784   \n",
       "hum        731.00000       0.62789       0.14243      0.00000       0.52000   \n",
       "windspeed  731.00000       0.19049       0.07750      0.02239       0.13495   \n",
       "casual     731.00000     848.17647     686.62249      2.00000     315.50000   \n",
       "registered 731.00000    3656.17237    1560.25638     20.00000    2497.00000   \n",
       "cnt        731.00000    4504.34884    1937.21145     22.00000    3152.00000   \n",
       "\n",
       "                     50%           75%            max  \n",
       "season           3.00000       3.00000        4.00000  \n",
       "yr               1.00000       1.00000        1.00000  \n",
       "mnth             7.00000      10.00000       12.00000  \n",
       "holiday          0.00000       0.00000        1.00000  \n",
       "weekday          3.00000       5.00000        6.00000  \n",
       "workingday       1.00000       1.00000        1.00000  \n",
       "weathersit       1.00000       2.00000        3.00000  \n",
       "temp       6844603.75500 9002145.62750 11834996.24500  \n",
       "atemp            0.48673       0.60860        0.84090  \n",
       "hum              0.62667       0.73021        0.97250  \n",
       "windspeed        0.18097       0.23321        0.50746  \n",
       "casual         713.00000    1096.00000     3410.00000  \n",
       "registered    3662.00000    4776.50000     6946.00000  \n",
       "cnt           4548.00000    5956.00000     8714.00000  "
      ]
     },
     "execution_count": 28,
     "metadata": {},
     "output_type": "execute_result"
    }
   ],
   "source": [
    "day.describe().T"
   ]
  },
  {
   "cell_type": "code",
   "execution_count": 29,
   "metadata": {},
   "outputs": [
    {
     "data": {
      "text/html": [
       "<div>\n",
       "<style scoped>\n",
       "    .dataframe tbody tr th:only-of-type {\n",
       "        vertical-align: middle;\n",
       "    }\n",
       "\n",
       "    .dataframe tbody tr th {\n",
       "        vertical-align: top;\n",
       "    }\n",
       "\n",
       "    .dataframe thead th {\n",
       "        text-align: right;\n",
       "    }\n",
       "</style>\n",
       "<table border=\"1\" class=\"dataframe\">\n",
       "  <thead>\n",
       "    <tr style=\"text-align: right;\">\n",
       "      <th></th>\n",
       "      <th>count</th>\n",
       "      <th>mean</th>\n",
       "      <th>std</th>\n",
       "      <th>min</th>\n",
       "      <th>25%</th>\n",
       "      <th>50%</th>\n",
       "      <th>75%</th>\n",
       "      <th>max</th>\n",
       "    </tr>\n",
       "  </thead>\n",
       "  <tbody>\n",
       "    <tr>\n",
       "      <th>season</th>\n",
       "      <td>17379.00000</td>\n",
       "      <td>2.50164</td>\n",
       "      <td>1.10692</td>\n",
       "      <td>1.00000</td>\n",
       "      <td>2.00000</td>\n",
       "      <td>3.00000</td>\n",
       "      <td>3.00000</td>\n",
       "      <td>4.00000</td>\n",
       "    </tr>\n",
       "    <tr>\n",
       "      <th>yr</th>\n",
       "      <td>17379.00000</td>\n",
       "      <td>0.50256</td>\n",
       "      <td>0.50001</td>\n",
       "      <td>0.00000</td>\n",
       "      <td>0.00000</td>\n",
       "      <td>1.00000</td>\n",
       "      <td>1.00000</td>\n",
       "      <td>1.00000</td>\n",
       "    </tr>\n",
       "    <tr>\n",
       "      <th>mnth</th>\n",
       "      <td>17379.00000</td>\n",
       "      <td>6.53778</td>\n",
       "      <td>3.43878</td>\n",
       "      <td>1.00000</td>\n",
       "      <td>4.00000</td>\n",
       "      <td>7.00000</td>\n",
       "      <td>10.00000</td>\n",
       "      <td>12.00000</td>\n",
       "    </tr>\n",
       "    <tr>\n",
       "      <th>hr</th>\n",
       "      <td>17379.00000</td>\n",
       "      <td>11.54675</td>\n",
       "      <td>6.91441</td>\n",
       "      <td>0.00000</td>\n",
       "      <td>6.00000</td>\n",
       "      <td>12.00000</td>\n",
       "      <td>18.00000</td>\n",
       "      <td>23.00000</td>\n",
       "    </tr>\n",
       "    <tr>\n",
       "      <th>holiday</th>\n",
       "      <td>17379.00000</td>\n",
       "      <td>0.02877</td>\n",
       "      <td>0.16717</td>\n",
       "      <td>0.00000</td>\n",
       "      <td>0.00000</td>\n",
       "      <td>0.00000</td>\n",
       "      <td>0.00000</td>\n",
       "      <td>1.00000</td>\n",
       "    </tr>\n",
       "    <tr>\n",
       "      <th>weekday</th>\n",
       "      <td>17379.00000</td>\n",
       "      <td>3.00368</td>\n",
       "      <td>2.00577</td>\n",
       "      <td>0.00000</td>\n",
       "      <td>1.00000</td>\n",
       "      <td>3.00000</td>\n",
       "      <td>5.00000</td>\n",
       "      <td>6.00000</td>\n",
       "    </tr>\n",
       "    <tr>\n",
       "      <th>workingday</th>\n",
       "      <td>17379.00000</td>\n",
       "      <td>0.68272</td>\n",
       "      <td>0.46543</td>\n",
       "      <td>0.00000</td>\n",
       "      <td>0.00000</td>\n",
       "      <td>1.00000</td>\n",
       "      <td>1.00000</td>\n",
       "      <td>1.00000</td>\n",
       "    </tr>\n",
       "    <tr>\n",
       "      <th>weathersit</th>\n",
       "      <td>17379.00000</td>\n",
       "      <td>1.42528</td>\n",
       "      <td>0.63936</td>\n",
       "      <td>1.00000</td>\n",
       "      <td>1.00000</td>\n",
       "      <td>1.00000</td>\n",
       "      <td>2.00000</td>\n",
       "      <td>4.00000</td>\n",
       "    </tr>\n",
       "    <tr>\n",
       "      <th>temp</th>\n",
       "      <td>17379.00000</td>\n",
       "      <td>6826118.75827</td>\n",
       "      <td>2644758.32536</td>\n",
       "      <td>274700.00000</td>\n",
       "      <td>4669900.00000</td>\n",
       "      <td>6867500.00000</td>\n",
       "      <td>9065100.00000</td>\n",
       "      <td>13735000.00000</td>\n",
       "    </tr>\n",
       "    <tr>\n",
       "      <th>atemp</th>\n",
       "      <td>17379.00000</td>\n",
       "      <td>0.47578</td>\n",
       "      <td>0.17185</td>\n",
       "      <td>0.00000</td>\n",
       "      <td>0.33330</td>\n",
       "      <td>0.48480</td>\n",
       "      <td>0.62120</td>\n",
       "      <td>1.00000</td>\n",
       "    </tr>\n",
       "    <tr>\n",
       "      <th>hum</th>\n",
       "      <td>17379.00000</td>\n",
       "      <td>0.62723</td>\n",
       "      <td>0.19293</td>\n",
       "      <td>0.00000</td>\n",
       "      <td>0.48000</td>\n",
       "      <td>0.63000</td>\n",
       "      <td>0.78000</td>\n",
       "      <td>1.00000</td>\n",
       "    </tr>\n",
       "    <tr>\n",
       "      <th>windspeed</th>\n",
       "      <td>17379.00000</td>\n",
       "      <td>0.19010</td>\n",
       "      <td>0.12234</td>\n",
       "      <td>0.00000</td>\n",
       "      <td>0.10450</td>\n",
       "      <td>0.19400</td>\n",
       "      <td>0.25370</td>\n",
       "      <td>0.85070</td>\n",
       "    </tr>\n",
       "    <tr>\n",
       "      <th>casual</th>\n",
       "      <td>17379.00000</td>\n",
       "      <td>35.67622</td>\n",
       "      <td>49.30503</td>\n",
       "      <td>0.00000</td>\n",
       "      <td>4.00000</td>\n",
       "      <td>17.00000</td>\n",
       "      <td>48.00000</td>\n",
       "      <td>367.00000</td>\n",
       "    </tr>\n",
       "    <tr>\n",
       "      <th>registered</th>\n",
       "      <td>17379.00000</td>\n",
       "      <td>153.78687</td>\n",
       "      <td>151.35729</td>\n",
       "      <td>0.00000</td>\n",
       "      <td>34.00000</td>\n",
       "      <td>115.00000</td>\n",
       "      <td>220.00000</td>\n",
       "      <td>886.00000</td>\n",
       "    </tr>\n",
       "    <tr>\n",
       "      <th>cnt</th>\n",
       "      <td>17379.00000</td>\n",
       "      <td>189.46309</td>\n",
       "      <td>181.38760</td>\n",
       "      <td>1.00000</td>\n",
       "      <td>40.00000</td>\n",
       "      <td>142.00000</td>\n",
       "      <td>281.00000</td>\n",
       "      <td>977.00000</td>\n",
       "    </tr>\n",
       "  </tbody>\n",
       "</table>\n",
       "</div>"
      ],
      "text/plain": [
       "                 count          mean           std          min           25%  \\\n",
       "season     17379.00000       2.50164       1.10692      1.00000       2.00000   \n",
       "yr         17379.00000       0.50256       0.50001      0.00000       0.00000   \n",
       "mnth       17379.00000       6.53778       3.43878      1.00000       4.00000   \n",
       "hr         17379.00000      11.54675       6.91441      0.00000       6.00000   \n",
       "holiday    17379.00000       0.02877       0.16717      0.00000       0.00000   \n",
       "weekday    17379.00000       3.00368       2.00577      0.00000       1.00000   \n",
       "workingday 17379.00000       0.68272       0.46543      0.00000       0.00000   \n",
       "weathersit 17379.00000       1.42528       0.63936      1.00000       1.00000   \n",
       "temp       17379.00000 6826118.75827 2644758.32536 274700.00000 4669900.00000   \n",
       "atemp      17379.00000       0.47578       0.17185      0.00000       0.33330   \n",
       "hum        17379.00000       0.62723       0.19293      0.00000       0.48000   \n",
       "windspeed  17379.00000       0.19010       0.12234      0.00000       0.10450   \n",
       "casual     17379.00000      35.67622      49.30503      0.00000       4.00000   \n",
       "registered 17379.00000     153.78687     151.35729      0.00000      34.00000   \n",
       "cnt        17379.00000     189.46309     181.38760      1.00000      40.00000   \n",
       "\n",
       "                     50%           75%            max  \n",
       "season           3.00000       3.00000        4.00000  \n",
       "yr               1.00000       1.00000        1.00000  \n",
       "mnth             7.00000      10.00000       12.00000  \n",
       "hr              12.00000      18.00000       23.00000  \n",
       "holiday          0.00000       0.00000        1.00000  \n",
       "weekday          3.00000       5.00000        6.00000  \n",
       "workingday       1.00000       1.00000        1.00000  \n",
       "weathersit       1.00000       2.00000        4.00000  \n",
       "temp       6867500.00000 9065100.00000 13735000.00000  \n",
       "atemp            0.48480       0.62120        1.00000  \n",
       "hum              0.63000       0.78000        1.00000  \n",
       "windspeed        0.19400       0.25370        0.85070  \n",
       "casual          17.00000      48.00000      367.00000  \n",
       "registered     115.00000     220.00000      886.00000  \n",
       "cnt            142.00000     281.00000      977.00000  "
      ]
     },
     "execution_count": 29,
     "metadata": {},
     "output_type": "execute_result"
    }
   ],
   "source": [
    "hour.describe().T"
   ]
  },
  {
   "cell_type": "code",
   "execution_count": 30,
   "metadata": {},
   "outputs": [
    {
     "data": {
      "image/png": "[encoded data removed]",
      "text/plain": [
       "<Figure size 432x288 with 1 Axes>"
      ]
     },
     "metadata": {
      "needs_background": "light"
     },
     "output_type": "display_data"
    },
    {
     "data": {
      "image/png": "[encoded data removed]",
      "text/plain": [
       "<Figure size 432x288 with 1 Axes>"
      ]
     },
     "metadata": {
      "needs_background": "light"
     },
     "output_type": "display_data"
    },
    {
     "data": {
      "image/png": "[encoded data removed]",
      "text/plain": [
       "<Figure size 432x288 with 1 Axes>"
      ]
     },
     "metadata": {
      "needs_background": "light"
     },
     "output_type": "display_data"
    },
    {
     "data": {
      "image/png": "[encoded data removed]",
      "text/plain": [
       "<Figure size 432x288 with 1 Axes>"
      ]
     },
     "metadata": {
      "needs_background": "light"
     },
     "output_type": "display_data"
    }
   ],
   "source": [
    "for i in day.select_dtypes(include='float'):\n",
    "    sns.distplot(day[i])\n",
    "    plt.show()"
   ]
  },
  {
   "cell_type": "code",
   "execution_count": 31,
   "metadata": {},
   "outputs": [],
   "source": [
    "for i in day.select_dtypes(include='int'):\n",
    "    sns.distplot(hour[i])\n",
    "    plt.show()"
   ]
  },
  {
   "cell_type": "code",
   "execution_count": 32,
   "metadata": {},
   "outputs": [],
   "source": [
    "for i in day.select_dtypes(include='int'):\n",
    "    sns.boxplot(day[i])\n",
    "    plt.show()"
   ]
  },
  {
   "cell_type": "code",
   "execution_count": 33,
   "metadata": {},
   "outputs": [],
   "source": [
    "for i in day.select_dtypes(include='int'):\n",
    "    sns.boxtplot(hour[i])\n",
    "    plt.show()"
   ]
  },
  {
   "cell_type": "code",
   "execution_count": 34,
   "metadata": {},
   "outputs": [
    {
     "data": {
      "image/png": "[encoded data removed]",
      "text/plain": [
       "<Figure size 432x288 with 1 Axes>"
      ]
     },
     "metadata": {
      "needs_background": "light"
     },
     "output_type": "display_data"
    },
    {
     "data": {
      "image/png": "[encoded data removed]",
      "text/plain": [
       "<Figure size 432x288 with 1 Axes>"
      ]
     },
     "metadata": {
      "needs_background": "light"
     },
     "output_type": "display_data"
    },
    {
     "data": {
      "image/png": "[encoded data removed]",
      "text/plain": [
       "<Figure size 432x288 with 1 Axes>"
      ]
     },
     "metadata": {
      "needs_background": "light"
     },
     "output_type": "display_data"
    },
    {
     "data": {
      "image/png": "[encoded data removed]",
      "text/plain": [
       "<Figure size 432x288 with 1 Axes>"
      ]
     },
     "metadata": {
      "needs_background": "light"
     },
     "output_type": "display_data"
    }
   ],
   "source": [
    "for i in day.select_dtypes(include='float'):\n",
    "    sns.boxplot(day[i])\n",
    "    plt.show()"
   ]
  },
  {
   "cell_type": "code",
   "execution_count": 35,
   "metadata": {},
   "outputs": [
    {
     "data": {
      "image/png": "[encoded data removed]",
      "text/plain": [
       "<Figure size 432x288 with 1 Axes>"
      ]
     },
     "metadata": {
      "needs_background": "light"
     },
     "output_type": "display_data"
    },
    {
     "data": {
      "image/png": "[encoded data removed]",
      "text/plain": [
       "<Figure size 432x288 with 1 Axes>"
      ]
     },
     "metadata": {
      "needs_background": "light"
     },
     "output_type": "display_data"
    },
    {
     "data": {
      "image/png": "[encoded data removed]",
      "text/plain": [
       "<Figure size 432x288 with 1 Axes>"
      ]
     },
     "metadata": {
      "needs_background": "light"
     },
     "output_type": "display_data"
    },
    {
     "data": {
      "image/png": "[encoded data removed]",
      "text/plain": [
       "<Figure size 432x288 with 1 Axes>"
      ]
     },
     "metadata": {
      "needs_background": "light"
     },
     "output_type": "display_data"
    }
   ],
   "source": [
    "for i in hour.select_dtypes(include='float'):\n",
    "    sns.boxplot(day[i])\n",
    "    plt.show()"
   ]
  },
  {
   "cell_type": "code",
   "execution_count": 37,
   "metadata": {},
   "outputs": [
    {
     "data": {
      "image/png": "[encoded data removed]",
      "text/plain": [
       "<Figure size 432x288 with 1 Axes>"
      ]
     },
     "metadata": {
      "needs_background": "light"
     },
     "output_type": "display_data"
    },
    {
     "data": {
      "image/png": "[encoded data removed]",
      "text/plain": [
       "<Figure size 432x288 with 1 Axes>"
      ]
     },
     "metadata": {
      "needs_background": "light"
     },
     "output_type": "display_data"
    },
    {
     "data": {
      "image/png": "[encoded data removed]",
      "text/plain": [
       "<Figure size 432x288 with 1 Axes>"
      ]
     },
     "metadata": {
      "needs_background": "light"
     },
     "output_type": "display_data"
    },
    {
     "data": {
      "image/png": "[encoded data removed]",
      "text/plain": [
       "<Figure size 432x288 with 1 Axes>"
      ]
     },
     "metadata": {
      "needs_background": "light"
     },
     "output_type": "display_data"
    }
   ],
   "source": [
    "for i in hour.select_dtypes(include='float'):\n",
    "    sns.distplot(day[i])\n",
    "    plt.show()"
   ]
  },
  {
   "cell_type": "code",
   "execution_count": 38,
   "metadata": {},
   "outputs": [
    {
     "data": {
      "text/plain": [
       "<AxesSubplot:>"
      ]
     },
     "execution_count": 38,
     "metadata": {},
     "output_type": "execute_result"
    },
    {
     "data": {
      "image/png": "[encoded data removed]",
      "text/plain": [
       "<Figure size 432x288 with 2 Axes>"
      ]
     },
     "metadata": {
      "needs_background": "light"
     },
     "output_type": "display_data"
    }
   ],
   "source": [
    "sns.heatmap(day.corr())"
   ]
  },
  {
   "cell_type": "code",
   "execution_count": 39,
   "metadata": {},
   "outputs": [
    {
     "data": {
      "text/plain": [
       "<AxesSubplot:>"
      ]
     },
     "execution_count": 39,
     "metadata": {},
     "output_type": "execute_result"
    },
    {
     "data": {
      "image/png": "[encoded data removed]",
      "text/plain": [
       "<Figure size 432x288 with 2 Axes>"
      ]
     },
     "metadata": {
      "needs_background": "light"
     },
     "output_type": "display_data"
    }
   ],
   "source": [
    "sns.heatmap(hour.corr())"
   ]
  },
  {
   "cell_type": "code",
   "execution_count": 40,
   "metadata": {},
   "outputs": [
    {
     "data": {
      "text/plain": [
       "season        0.40610\n",
       "yr            0.56671\n",
       "mnth          0.27998\n",
       "holiday      -0.06835\n",
       "weekday       0.06744\n",
       "workingday    0.06116\n",
       "weathersit   -0.29739\n",
       "temp          0.62749\n",
       "atemp         0.63107\n",
       "hum          -0.10066\n",
       "windspeed    -0.23454\n",
       "casual        0.67280\n",
       "registered    0.94552\n",
       "cnt           1.00000\n",
       "Name: cnt, dtype: float64"
      ]
     },
     "execution_count": 40,
     "metadata": {},
     "output_type": "execute_result"
    }
   ],
   "source": [
    "day.corr()['cnt']"
   ]
  },
  {
   "cell_type": "code",
   "execution_count": 41,
   "metadata": {},
   "outputs": [],
   "source": [
    "def get_df_name(df):\n",
    "    name =[x for x in globals() if globals()[x] is df][0]\n",
    "    return name\n",
    "def plot_stack_bar_chart(data, col, name):\n",
    "    plt.figure(figsize=(12,8))\n",
    "    p1 = plt.bar(data[col].unique(),data.groupby([col])['casual'].sum())\n",
    "    p2 = plt.bar(data[col].unique(),data.groupby([col])['registered'].sum())\n",
    "    bottom = data.groupby([col])['casual'].sum()\n",
    "    plt.ylabel('count')\n",
    "    plt.title(\"count by casual and Registered for each {} in Data\".format(col, get_df_name(data)))\n",
    "    plt.xticks(data[col].unique(), name)\n",
    "    plt.legend((p1[0], p2[0]), ('casual', 'Registered'))\n",
    "    plt.show()"
   ]
  },
  {
   "cell_type": "code",
   "execution_count": 42,
   "metadata": {},
   "outputs": [
    {
     "data": {
      "image/png": "[encoded data removed]",
      "text/plain": [
       "<Figure size 864x576 with 1 Axes>"
      ]
     },
     "metadata": {
      "needs_background": "light"
     },
     "output_type": "display_data"
    }
   ],
   "source": [
    "plot_stack_bar_chart(day,'season', ('1:springer', '2:summer', '3:fail', '4:winter'))"
   ]
  },
  {
   "cell_type": "code",
   "execution_count": 43,
   "metadata": {},
   "outputs": [
    {
     "data": {
      "image/png": "[encoded data removed]",
      "text/plain": [
       "<Figure size 864x576 with 1 Axes>"
      ]
     },
     "metadata": {
      "needs_background": "light"
     },
     "output_type": "display_data"
    }
   ],
   "source": [
    "plt.figure(figsize=(12,8))\n",
    "sns.barplot(x = hour['holiday'], y = hour['cnt'],hue = hour['season'])\n",
    "plt.title('Holiday wise distribution of counts')\n",
    "plt.show()"
   ]
  }
 ],
 "metadata": {
  "kernelspec": {
   "display_name": "Python 3",
   "language": "python",
   "name": "python3"
  },
  "language_info": {
   "codemirror_mode": {
    "name": "ipython",
    "version": 3
   },
   "file_extension": ".py",
   "mimetype": "text/x-python",
   "name": "python",
   "nbconvert_exporter": "python",
   "pygments_lexer": "ipython3",
   "version": "3.8.5"
  }
 },
 "nbformat": 4,
 "nbformat_minor": 4
}
